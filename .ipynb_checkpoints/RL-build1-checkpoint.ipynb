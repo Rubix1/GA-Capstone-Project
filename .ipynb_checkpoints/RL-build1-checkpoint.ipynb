{
 "cells": [
  {
   "cell_type": "code",
   "execution_count": 1,
   "metadata": {},
   "outputs": [],
   "source": [
    "import pandas as pd\n",
    "import numpy as np"
   ]
  },
  {
   "cell_type": "code",
   "execution_count": 2,
   "metadata": {},
   "outputs": [],
   "source": [
    "df = pd.read_csv('./online_shoppers_intention.csv')"
   ]
  },
  {
   "cell_type": "code",
   "execution_count": null,
   "metadata": {},
   "outputs": [],
   "source": []
  },
  {
   "cell_type": "code",
   "execution_count": null,
   "metadata": {},
   "outputs": [],
   "source": []
  },
  {
   "cell_type": "code",
   "execution_count": null,
   "metadata": {},
   "outputs": [],
   "source": []
  },
  {
   "cell_type": "code",
   "execution_count": null,
   "metadata": {},
   "outputs": [],
   "source": []
  },
  {
   "cell_type": "code",
   "execution_count": null,
   "metadata": {},
   "outputs": [],
   "source": []
  },
  {
   "cell_type": "code",
   "execution_count": 10,
   "metadata": {},
   "outputs": [],
   "source": [
    "terminal = [0]*len(df.index)"
   ]
  },
  {
   "cell_type": "code",
   "execution_count": 13,
   "metadata": {},
   "outputs": [
    {
     "data": {
      "text/plain": [
       "12330"
      ]
     },
     "execution_count": 13,
     "metadata": {},
     "output_type": "execute_result"
    }
   ],
   "source": [
    "len(terminal)"
   ]
  },
  {
   "cell_type": "code",
   "execution_count": null,
   "metadata": {},
   "outputs": [],
   "source": []
  },
  {
   "cell_type": "code",
   "execution_count": 3,
   "metadata": {},
   "outputs": [
    {
     "data": {
      "text/plain": [
       "False    10422\n",
       "True      1908\n",
       "Name: Revenue, dtype: int64"
      ]
     },
     "execution_count": 3,
     "metadata": {},
     "output_type": "execute_result"
    }
   ],
   "source": [
    "df.Revenue.value_counts()"
   ]
  },
  {
   "cell_type": "code",
   "execution_count": 4,
   "metadata": {},
   "outputs": [],
   "source": [
    "lamb_da = 1908/10422"
   ]
  },
  {
   "cell_type": "code",
   "execution_count": 6,
   "metadata": {},
   "outputs": [
    {
     "data": {
      "text/plain": [
       "-0.18307426597582038"
      ]
     },
     "execution_count": 6,
     "metadata": {},
     "output_type": "execute_result"
    }
   ],
   "source": [
    "lamb"
   ]
  },
  {
   "cell_type": "code",
   "execution_count": 7,
   "metadata": {},
   "outputs": [
    {
     "ename": "SyntaxError",
     "evalue": "invalid syntax (<ipython-input-7-6d03ae88d1d5>, line 1)",
     "output_type": "error",
     "traceback": [
      "\u001b[1;36m  File \u001b[1;32m\"<ipython-input-7-6d03ae88d1d5>\"\u001b[1;36m, line \u001b[1;32m1\u001b[0m\n\u001b[1;33m    def STEP(action[t], label[t]):\u001b[0m\n\u001b[1;37m                   ^\u001b[0m\n\u001b[1;31mSyntaxError\u001b[0m\u001b[1;31m:\u001b[0m invalid syntax\n"
     ]
    }
   ],
   "source": [
    "def STEP(action, label):\n",
    "    terminal[t].append(0)\n",
    "    if state[t] == label:\n",
    "        if action == label:\n",
    "            Set reward[t] = 1\n",
    "        else:\n",
    "            Set reward[t] = -1\n",
    "            terminal[t] = 1\n",
    "    else:\n",
    "        if action == label:\n",
    "            reward[t] = lamb_da\n",
    "        else\n",
    "            reward[t] = −lamb_da\n",
    "    return reward[t] , terminal[t]"
   ]
  },
  {
   "cell_type": "code",
   "execution_count": null,
   "metadata": {},
   "outputs": [],
   "source": [
    "class Board():\n",
    "\n",
    "    \n",
    "    def __init__(self, n=16):\n",
    "        \"Set up initial board configuration.\"\n",
    "\n",
    "        self.n = n\n",
    "        # Create the empty board array.\n",
    "        self.pieces = [None]*self.n\n",
    "        for i in range(self.n):\n",
    "            self.pieces[i] = [0]*self.n\n",
    "\n",
    "    # add [][] indexer syntax to the Board\n",
    "    def __getitem__(self, index): \n",
    "        return self.pieces[index]\n",
    "\n",
    "    def get_legal_moves(self, color):\n",
    "        \"\"\"Returns all the legal moves for the given color.\n",
    "        (1 for white, -1 for black)\n",
    "        @param color not used and came from previous version.        \n",
    "        \"\"\"\n",
    "        moves = set([0,1])  # stores the legal moves.\n",
    "\n",
    "#         # Get all the empty squares (color==0)\n",
    "#         for y in range(self.n):\n",
    "#             for x in range(self.n):\n",
    "#                 if self[x][y]==0:\n",
    "#                     newmove = (x,y)\n",
    "#                     moves.add(newmove)\n",
    "        return list(moves)\n",
    "\n",
    "    def has_legal_moves(self):\n",
    "#         for y in range(self.n):\n",
    "#             for x in range(self.n):\n",
    "#                 if self[x][y]==0:\n",
    "#                     return True\n",
    "        return True\n",
    "    \n",
    "    def is_win(self, color):\n",
    "        \"\"\"Check whether the given player has collected a triplet in any direction; \n",
    "        @param color (1=white,-1=black)\n",
    "        \"\"\"\n",
    "#         win = self.n\n",
    "#         # check y-strips\n",
    "#         for y in range(self.n):\n",
    "#             count = 0\n",
    "#             for x in range(self.n):\n",
    "#                 if self[x][y]==color:\n",
    "#                     count += 1\n",
    "#             if count==win:\n",
    "#                 return True\n",
    "#         # check x-strips\n",
    "#         for x in range(self.n):\n",
    "#             count = 0\n",
    "#             for y in range(self.n):\n",
    "#                 if self[x][y]==color:\n",
    "#                     count += 1\n",
    "#             if count==win:\n",
    "#                 return True\n",
    "#         # check two diagonal strips\n",
    "#         count = 0\n",
    "#         for d in range(self.n):\n",
    "#             if self[d][d]==color:\n",
    "#                 count += 1\n",
    "#         if count==win:\n",
    "#             return True\n",
    "#         count = 0\n",
    "#         for d in range(self.n):\n",
    "#             if self[d][self.n-d-1]==color:\n",
    "#                 count += 1\n",
    "#         if count==win:\n",
    "#             return True\n",
    "        \n",
    "        if terminal == 1:\n",
    "            return True\n",
    "        else:\n",
    "            return False\n",
    "\n",
    "    def execute_move(self, move, color):\n",
    "        \"\"\"Perform the given move on the board; \n",
    "        color gives the color pf the piece to play (1=white,-1=black)\n",
    "        \"\"\"\n",
    "\n",
    "        (x,y) = move\n",
    "\n",
    "        # Add the piece to the empty square.\n",
    "        assert self[x][y] == 0\n",
    "        self[x][y] = color"
   ]
  }
 ],
 "metadata": {
  "kernelspec": {
   "display_name": "Python 3",
   "language": "python",
   "name": "python3"
  },
  "language_info": {
   "codemirror_mode": {
    "name": "ipython",
    "version": 3
   },
   "file_extension": ".py",
   "mimetype": "text/x-python",
   "name": "python",
   "nbconvert_exporter": "python",
   "pygments_lexer": "ipython3",
   "version": "3.7.4"
  }
 },
 "nbformat": 4,
 "nbformat_minor": 4
}
